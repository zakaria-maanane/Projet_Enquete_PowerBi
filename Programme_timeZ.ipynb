{
 "cells": [
  {
   "cell_type": "code",
   "execution_count": 25,
   "id": "025923a1-cac0-429a-b273-b88b6500b54a",
   "metadata": {},
   "outputs": [
    {
     "name": "stdout",
     "output_type": "stream",
     "text": [
      "    Hour Shipman localDoctor shipmanDeathHour localDeathHour  timeDifference\n",
      "0      0     2,6         1,1         02:36:00       01:06:00              90\n",
      "1      1       1           3         01:00:00       03:00:00            -120\n",
      "2      2     2,6         3,1         02:36:00       03:06:00             -30\n",
      "3      3       3         3,8         03:00:00       03:48:00             -48\n",
      "4      4     0,3           4         00:18:00       04:00:00            -222\n",
      "5      5     1,2         4,3         01:12:00       04:18:00            -186\n",
      "6      6     2,9         4,2         02:54:00       04:12:00             -78\n",
      "7      7     1,8         4,1         01:48:00       04:06:00            -138\n",
      "8      8     3,6         3,4         03:36:00       03:24:00              12\n",
      "9      9     2,6         5,6         02:36:00       05:36:00            -180\n",
      "10    10     4,6         5,5         04:36:00       05:30:00             -54\n",
      "11    11     5,8         5,8         05:48:00       05:48:00               0\n",
      "12    12       2           4         02:00:00       04:00:00            -120\n",
      "13    13       9         3,8         09:00:00       03:48:00             312\n",
      "14    14    14,1           2         14:06:00       02:00:00             726\n",
      "15    15      13         3,4         13:00:00       03:24:00             576\n",
      "16    16       9         6,6         09:00:00       06:36:00             144\n",
      "17    17     5,8         5,2         05:48:00       05:12:00              36\n",
      "18    18     3,8         3,3         03:48:00       03:18:00              30\n",
      "19    19     2,9           5         02:54:00       05:00:00            -126\n",
      "20    20     3,6         4,1         03:36:00       04:06:00             -30\n",
      "21    21     0,8         3,8         00:48:00       03:48:00            -180\n",
      "22    22     3,6         2,9         03:36:00       02:54:00              42\n",
      "23    23       2         4,1         02:00:00       04:06:00            -126\n"
     ]
    }
   ],
   "source": [
    "import pandas as pd\n",
    "import matplotlib.pyplot as plt\n",
    "import seaborn as sb\n",
    "DATA_BASE =\"shipmanComparison.csv\"\n",
    "df = pd.read_csv(DATA_BASE)\n",
    "print(df)"
   ]
  },
  {
   "cell_type": "code",
   "execution_count": 26,
   "id": "aaf375f4-558d-4d6e-b4da-3887193f4445",
   "metadata": {},
   "outputs": [],
   "source": [
    "df['Hour'] = pd.to_numeric(df['Hour'], errors='coerce')\n",
    "df['Shipman'] = pd.to_numeric(df['Shipman'], errors='coerce')\n",
    "df['localDoctor'] = pd.to_numeric(df['localDoctor'], errors='coerce')\n",
    "df['shipmanDeathHour'] = pd.to_datetime(df['shipmanDeathHour'], format='%H:%M:%S', errors='coerce').dt.hour\n",
    "df['localDeathHour'] = pd.to_datetime(df['localDeathHour'], format='%H:%M:%S', errors='coerce').dt.hour\n",
    "df['timeDifference'] = pd.to_numeric(df['timeDifference'], errors='coerce')"
   ]
  },
  {
   "cell_type": "code",
   "execution_count": 27,
   "id": "fb411558-1748-417c-b57c-94300e4b3de6",
   "metadata": {},
   "outputs": [
    {
     "data": {
      "text/plain": [
       "Hour                  int64\n",
       "Shipman             float64\n",
       "localDoctor         float64\n",
       "shipmanDeathHour      int32\n",
       "localDeathHour        int32\n",
       "timeDifference        int64\n",
       "dtype: object"
      ]
     },
     "execution_count": 27,
     "metadata": {},
     "output_type": "execute_result"
    }
   ],
   "source": [
    "df.dtypes"
   ]
  },
  {
   "cell_type": "code",
   "execution_count": 32,
   "id": "bd8b1270-e6e4-4c01-8733-6e6533de26e7",
   "metadata": {},
   "outputs": [
    {
     "data": {
      "text/html": [
       "<div>\n",
       "<style scoped>\n",
       "    .dataframe tbody tr th:only-of-type {\n",
       "        vertical-align: middle;\n",
       "    }\n",
       "\n",
       "    .dataframe tbody tr th {\n",
       "        vertical-align: top;\n",
       "    }\n",
       "\n",
       "    .dataframe thead th {\n",
       "        text-align: right;\n",
       "    }\n",
       "</style>\n",
       "<table border=\"1\" class=\"dataframe\">\n",
       "  <thead>\n",
       "    <tr style=\"text-align: right;\">\n",
       "      <th></th>\n",
       "      <th>Hour</th>\n",
       "      <th>Shipman</th>\n",
       "      <th>localDoctor</th>\n",
       "      <th>shipmanDeathHour</th>\n",
       "      <th>localDeathHour</th>\n",
       "      <th>timeDifference</th>\n",
       "    </tr>\n",
       "  </thead>\n",
       "  <tbody>\n",
       "    <tr>\n",
       "      <th>Hour</th>\n",
       "      <td>1.000000</td>\n",
       "      <td>0.436436</td>\n",
       "      <td>0.359092</td>\n",
       "      <td>0.331249</td>\n",
       "      <td>0.155543</td>\n",
       "      <td>0.188425</td>\n",
       "    </tr>\n",
       "    <tr>\n",
       "      <th>Shipman</th>\n",
       "      <td>0.436436</td>\n",
       "      <td>1.000000</td>\n",
       "      <td>1.000000</td>\n",
       "      <td>1.000000</td>\n",
       "      <td>-0.091287</td>\n",
       "      <td>0.908295</td>\n",
       "    </tr>\n",
       "    <tr>\n",
       "      <th>localDoctor</th>\n",
       "      <td>0.359092</td>\n",
       "      <td>1.000000</td>\n",
       "      <td>1.000000</td>\n",
       "      <td>-0.289474</td>\n",
       "      <td>1.000000</td>\n",
       "      <td>-0.763158</td>\n",
       "    </tr>\n",
       "    <tr>\n",
       "      <th>shipmanDeathHour</th>\n",
       "      <td>0.331249</td>\n",
       "      <td>1.000000</td>\n",
       "      <td>-0.289474</td>\n",
       "      <td>1.000000</td>\n",
       "      <td>0.000000</td>\n",
       "      <td>0.858762</td>\n",
       "    </tr>\n",
       "    <tr>\n",
       "      <th>localDeathHour</th>\n",
       "      <td>0.155543</td>\n",
       "      <td>-0.091287</td>\n",
       "      <td>1.000000</td>\n",
       "      <td>0.000000</td>\n",
       "      <td>1.000000</td>\n",
       "      <td>-0.379719</td>\n",
       "    </tr>\n",
       "    <tr>\n",
       "      <th>timeDifference</th>\n",
       "      <td>0.188425</td>\n",
       "      <td>0.908295</td>\n",
       "      <td>-0.763158</td>\n",
       "      <td>0.858762</td>\n",
       "      <td>-0.379719</td>\n",
       "      <td>1.000000</td>\n",
       "    </tr>\n",
       "  </tbody>\n",
       "</table>\n",
       "</div>"
      ],
      "text/plain": [
       "                      Hour   Shipman  localDoctor  shipmanDeathHour  \\\n",
       "Hour              1.000000  0.436436     0.359092          0.331249   \n",
       "Shipman           0.436436  1.000000     1.000000          1.000000   \n",
       "localDoctor       0.359092  1.000000     1.000000         -0.289474   \n",
       "shipmanDeathHour  0.331249  1.000000    -0.289474          1.000000   \n",
       "localDeathHour    0.155543 -0.091287     1.000000          0.000000   \n",
       "timeDifference    0.188425  0.908295    -0.763158          0.858762   \n",
       "\n",
       "                  localDeathHour  timeDifference  \n",
       "Hour                    0.155543        0.188425  \n",
       "Shipman                -0.091287        0.908295  \n",
       "localDoctor             1.000000       -0.763158  \n",
       "shipmanDeathHour        0.000000        0.858762  \n",
       "localDeathHour          1.000000       -0.379719  \n",
       "timeDifference         -0.379719        1.000000  "
      ]
     },
     "execution_count": 32,
     "metadata": {},
     "output_type": "execute_result"
    }
   ],
   "source": [
    "df.corr(method='spearman')"
   ]
  },
  {
   "cell_type": "code",
   "execution_count": null,
   "id": "f593e733-0503-4889-a29f-c48af0316749",
   "metadata": {},
   "outputs": [],
   "source": []
  }
 ],
 "metadata": {
  "kernelspec": {
   "display_name": "Python 3 (ipykernel)",
   "language": "python",
   "name": "python3"
  },
  "language_info": {
   "codemirror_mode": {
    "name": "ipython",
    "version": 3
   },
   "file_extension": ".py",
   "mimetype": "text/x-python",
   "name": "python",
   "nbconvert_exporter": "python",
   "pygments_lexer": "ipython3",
   "version": "3.13.2"
  }
 },
 "nbformat": 4,
 "nbformat_minor": 5
}
